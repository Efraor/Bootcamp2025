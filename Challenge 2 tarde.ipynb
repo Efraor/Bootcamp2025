{
 "cells": [
  {
   "cell_type": "markdown",
   "id": "91a559be",
   "metadata": {},
   "source": [
    "# Challenge\n",
    "Asignar el nombre y el apellido de tu compañera/o a las variables nombre y apellido. Luego, imprimir una frase, utilizando las variables.\n",
    "EJEMPLO: \"Hola. Me llamo Claudia Melgarejo. Mucho gusto.\"\n"
   ]
  },
  {
   "cell_type": "markdown",
   "id": "aa55a7dd",
   "metadata": {},
   "source": [
    "# Anotaciones\n",
    "## La f sirve para meter variables dentro del texto y deben de ir entre llaves\n"
   ]
  },
  {
   "cell_type": "code",
   "execution_count": 12,
   "id": "53ee5a1c",
   "metadata": {},
   "outputs": [
    {
     "name": "stdout",
     "output_type": "stream",
     "text": [
      "Hola me llamo Marcos Talavera. Mucho gusto, ademàs tengo 31 años de edad\n"
     ]
    }
   ],
   "source": [
    "Nombre = \"Marcos\"\n",
    "Apellido = \"Talavera\"\n",
    "Años = 31\n",
    "\n",
    "print(f\"Hola me llamo {Nombre} {Apellido}. Mucho gusto, ademàs tengo {Años} años de edad\") "
   ]
  },
  {
   "cell_type": "code",
   "execution_count": 14,
   "id": "da6f54d2",
   "metadata": {},
   "outputs": [
    {
     "name": "stdout",
     "output_type": "stream",
     "text": [
      "Hola, me llamo Jorge Ruiz, mucho gusto.\n",
      "Hola Tobias  Rodriguez, mucho gusto conocerte, soy Angel tu compa de al lado\n"
     ]
    }
   ],
   "source": [
    "nombre = \"Jorge\" \n",
    "apellido = \"Ruiz\" \n",
    "print(f\"Hola, me llamo {nombre} {apellido}, mucho gusto.\")\n",
    "\n",
    "nombre = 'Tobias'\n",
    "apellido = 'Rodriguez'\n",
    "nombre_completo = nombre + '  ' + apellido\n",
    "print(f'Hola {nombre_completo}, mucho gusto conocerte, soy Angel tu compa de al lado') \n",
    "\n"
   ]
  },
  {
   "cell_type": "code",
   "execution_count": null,
   "id": "d9831ad4",
   "metadata": {},
   "outputs": [],
   "source": []
  }
 ],
 "metadata": {
  "kernelspec": {
   "display_name": "Python 3",
   "language": "python",
   "name": "python3"
  },
  "language_info": {
   "codemirror_mode": {
    "name": "ipython",
    "version": 3
   },
   "file_extension": ".py",
   "mimetype": "text/x-python",
   "name": "python",
   "nbconvert_exporter": "python",
   "pygments_lexer": "ipython3",
   "version": "3.13.3"
  }
 },
 "nbformat": 4,
 "nbformat_minor": 5
}
