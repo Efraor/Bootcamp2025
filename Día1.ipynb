{
 "cells": [
  {
   "cell_type": "code",
   "execution_count": 48,
   "id": "c4a165f5",
   "metadata": {},
   "outputs": [
    {
     "name": "stdout",
     "output_type": "stream",
     "text": [
      "hello new word\n",
      "Efra Ortiz\n",
      "Naranjas guau nomas \"hinaaaa\"\n",
      "3 1.343\n",
      "5\n",
      "4.343\n"
     ]
    }
   ],
   "source": [
    "print(\"hello new word\")\n",
    "nombre = \"Efra\"\n",
    "Apellido = \"Ortiz\"\n",
    "print(nombre, Apellido)\n",
    "cantidad_de_frutas = 5\n",
    "frutas = 'Naranjas guau nomas \"hinaaaa\"'\n",
    "print(frutas)\n",
    "\n",
    "\n",
    "numero = 1.343 \n",
    "numero2 = 3\n",
    "print(numero2,numero)\n",
    "\n",
    "print(cantidad_de_frutas)\n",
    "print(numero + numero2)\n",
    "\n"
   ]
  },
  {
   "cell_type": "code",
   "execution_count": null,
   "id": "4344b59f",
   "metadata": {},
   "outputs": [],
   "source": []
  },
  {
   "cell_type": "code",
   "execution_count": 56,
   "id": "84d95fb7",
   "metadata": {},
   "outputs": [
    {
     "name": "stdout",
     "output_type": "stream",
     "text": [
      "35000\n",
      "30000\n",
      "24500.0\n"
     ]
    }
   ],
   "source": [
    "precio_total = 15000 + 20000\n",
    "print(precio_total)\n",
    "\n",
    "Precio_descuento = precio_total - 5000\n",
    "print(Precio_descuento)\n",
    "\n",
    "Precio_descuento2 = precio_total - precio_total*30/100\n",
    "print(Precio_descuento2)\n",
    "\n"
   ]
  },
  {
   "cell_type": "code",
   "execution_count": 58,
   "id": "449bec17",
   "metadata": {},
   "outputs": [
    {
     "name": "stdout",
     "output_type": "stream",
     "text": [
      "5066.666666666667\n"
     ]
    }
   ],
   "source": [
    "Precio_gaseosa = 19000\n",
    "cantidad_gasesa = 4\n",
    "cantidad_de_persona = 15\n",
    "\n",
    "Costo_total = Precio_gaseosa*cantidad_gasesa\n",
    "costo_por_persona = Costo_total/cantidad_de_persona\n",
    "\n",
    "\n",
    "print(costo_por_persona)\n",
    "\n"
   ]
  },
  {
   "cell_type": "code",
   "execution_count": 69,
   "id": "39da3c7a",
   "metadata": {},
   "outputs": [
    {
     "name": "stdout",
     "output_type": "stream",
     "text": [
      "Efrain Ortiz\n",
      "Hola mi nombre es Efrain Ortiz\n",
      "Hola ni nombre es: Efrain Ortiz\n"
     ]
    }
   ],
   "source": [
    "Nombre = 'Efrain'\n",
    "Apellido = 'Ortiz'\n",
    "\n",
    "Nombre_completo = Nombre +' '+ Apellido\n",
    "print(Nombre_completo)\n",
    "print(\"Hola mi nombre es\"+\" \"+Nombre_completo)\n",
    "print(f\"Hola ni nombre es: {Nombre_completo}\")"
   ]
  },
  {
   "cell_type": "code",
   "execution_count": 97,
   "id": "aacfb551",
   "metadata": {},
   "outputs": [
    {
     "name": "stdout",
     "output_type": "stream",
     "text": [
      "10\n",
      "si te llamas 10 y la suma de tus numeros es 20 entonces me debes 100.000 Guaranies \n",
      "20\n"
     ]
    }
   ],
   "source": [
    "nombre = input(\"cual es tu nombre?\")\n",
    "print(nombre)\n",
    "\n",
    "numero1 = int(input(\"Dame un numero\"))\n",
    "numero2 = int(input(\"Dame otro numero\"))\n",
    "\n",
    "numero_final = numero1+numero2\n",
    "\n",
    "\n",
    "print(f\"si te llamas {nombre} y la suma de tus numeros es {numero_final} entonces me debes 100.000 Guaranies \")\n",
    "print(numero_final)"
   ]
  },
  {
   "cell_type": "code",
   "execution_count": 100,
   "id": "d4b4fe91",
   "metadata": {},
   "outputs": [
    {
     "name": "stdout",
     "output_type": "stream",
     "text": [
      "Abrir pan\n",
      "agregar JAMON Y QUESO\n",
      "cerrar pan\n",
      "listo\n"
     ]
    }
   ],
   "source": [
    "def preparar_sandwich2(ingrediente):\n",
    "    print(\"Abrir pan\")\n",
    "    print(F\"agregar {ingrediente}\")\n",
    "    print(\"cerrar pan\")\n",
    "    print(\"listo\")\n",
    "\n",
    "preparar_sandwich2(\"JAMON Y QUESO\")\n"
   ]
  },
  {
   "cell_type": "code",
   "execution_count": null,
   "id": "c71a82f4",
   "metadata": {},
   "outputs": [],
   "source": [
    "def preparar_comida():\n",
    "    ingrediente = \"carne\"\n",
    "    print(f\"estoy cocinando {ingrediente}\")\n",
    "    "
   ]
  },
  {
   "cell_type": "code",
   "execution_count": null,
   "id": "c2bb9423",
   "metadata": {},
   "outputs": [],
   "source": []
  }
 ],
 "metadata": {
  "kernelspec": {
   "display_name": "Python 3",
   "language": "python",
   "name": "python3"
  },
  "language_info": {
   "codemirror_mode": {
    "name": "ipython",
    "version": 3
   },
   "file_extension": ".py",
   "mimetype": "text/x-python",
   "name": "python",
   "nbconvert_exporter": "python",
   "pygments_lexer": "ipython3",
   "version": "3.13.3"
  }
 },
 "nbformat": 4,
 "nbformat_minor": 5
}
