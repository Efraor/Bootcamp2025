{
 "cells": [
  {
   "cell_type": "markdown",
   "id": "43780371",
   "metadata": {},
   "source": [
    "# Challenge 🤺 - 15m\n",
    "Escribir una funcion que nos pregunte las caracteriticas de un elemento a comprar e imprima el elemento con sus caracteristicas."
   ]
  },
  {
   "cell_type": "code",
   "execution_count": 7,
   "id": "ffb2ab6b",
   "metadata": {},
   "outputs": [
    {
     "name": "stdout",
     "output_type": "stream",
     "text": [
      "Las caracteristicas de tu hilux son\n",
      "Robusto\n",
      "Ancho \n",
      "Garantia de por vida\n",
      "Mantenimiento gratis por 5 años\n"
     ]
    }
   ],
   "source": [
    "version = input(\"Ingrese el modelo de su camioneta\")\n",
    "def vehiculo(modelo):\n",
    "    print(f\"Las caracteristicas de tu {modelo} son\")\n",
    "    print(\"Robusto\")\n",
    "    print(\"Ancho \")\n",
    "    print(\"Garantia de por vida\")\n",
    "    print(\"Mantenimiento gratis por 5 años\")\n",
    "\n",
    "\n",
    "vehiculo(version)\n",
    "\n",
    "\n"
   ]
  },
  {
   "cell_type": "code",
   "execution_count": null,
   "id": "b34c3428",
   "metadata": {},
   "outputs": [],
   "source": []
  }
 ],
 "metadata": {
  "kernelspec": {
   "display_name": "Python 3",
   "language": "python",
   "name": "python3"
  },
  "language_info": {
   "codemirror_mode": {
    "name": "ipython",
    "version": 3
   },
   "file_extension": ".py",
   "mimetype": "text/x-python",
   "name": "python",
   "nbconvert_exporter": "python",
   "pygments_lexer": "ipython3",
   "version": "3.13.3"
  }
 },
 "nbformat": 4,
 "nbformat_minor": 5
}
