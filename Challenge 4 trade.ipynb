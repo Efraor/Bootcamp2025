{
 "cells": [
  {
   "cell_type": "markdown",
   "id": "f682f569",
   "metadata": {},
   "source": [
    "# Challenge 🤺 - 10m\n",
    "Crear una función de un proceso que se les ocurra que tenga varios pasos.\n",
    "Ejecutar la función 3 veces."
   ]
  },
  {
   "cell_type": "code",
   "execution_count": null,
   "id": "6cee7d37",
   "metadata": {},
   "outputs": [
    {
     "name": "stdout",
     "output_type": "stream",
     "text": [
      "20\n",
      "20\n",
      "20\n"
     ]
    }
   ],
   "source": [
    "numero1= int(input(\"Coloca un numero\"))\n",
    "numero2= int(input(\"Ahora otro numero\"))\n",
    "def sumar():\n",
    "    suma = numero1+numero2\n",
    "    print(suma)\n",
    "\n",
    "sumar()\n",
    "sumar()\n",
    "sumar()\n",
    "\n"
   ]
  }
 ],
 "metadata": {
  "kernelspec": {
   "display_name": "Python 3",
   "language": "python",
   "name": "python3"
  },
  "language_info": {
   "codemirror_mode": {
    "name": "ipython",
    "version": 3
   },
   "file_extension": ".py",
   "mimetype": "text/x-python",
   "name": "python",
   "nbconvert_exporter": "python",
   "pygments_lexer": "ipython3",
   "version": "3.13.3"
  }
 },
 "nbformat": 4,
 "nbformat_minor": 5
}
