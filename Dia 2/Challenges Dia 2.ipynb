{
 "cells": [
  {
   "cell_type": "markdown",
   "id": "0315710b",
   "metadata": {},
   "source": [
    "#Challenge🤺 - 20m\n",
    "\n",
    "\n",
    "Escribe un programa que pregunte al usuario por su edad y determine si tiene edad suficiente para comprar y consumir alcohol.\n",
    "Si el usuario tiene mas de 18 pero menos de 21 impirmir \"Podes tomar pero no comprar\"\n",
    "Si el usuario tiene menos de 18 imprimir \"Juguito nomas\"\n",
    "Si el usuario tiene mas de 21 imprimir \"Hace lo que quieras\""
   ]
  },
  {
   "cell_type": "code",
   "execution_count": 30,
   "id": "04c4a495",
   "metadata": {},
   "outputs": [
    {
     "name": "stdout",
     "output_type": "stream",
     "text": [
      "Hace lo que quieras\n"
     ]
    }
   ],
   "source": [
    "edad_usurario = int(input(\"Ingrese su edad\"))\n",
    "\n",
    "if edad_usurario<18:\n",
    "    print(\"Jugito nomas\")\n",
    "\n",
    "elif edad_usurario >= 21:\n",
    "    print(\"Hace lo que quieras\")                \n",
    "    \n",
    "else:\n",
    "    print(\"Podes tomar pero no comprar\")\n",
    "\n",
    "#elif 21<= edad_usurario:\n",
    "    #print(\"Hace lo que quieras\")\n"
   ]
  },
  {
   "cell_type": "markdown",
   "id": "6961c33e",
   "metadata": {},
   "source": [
    "#Challenge 🤺 - 20m\n",
    "\n",
    "Escribir un programa que almacene una contraseña en una variable, y pregunte al usuario por la contraseña hasta que introduzca la contraseña correcta.\n",
    "\n",
    "Cuando el usuario ingrese la contrasena correcta, imprimir un mensaje secreto."
   ]
  },
  {
   "cell_type": "code",
   "execution_count": 64,
   "id": "164e7922",
   "metadata": {},
   "outputs": [
    {
     "name": "stdout",
     "output_type": "stream",
     "text": [
      "Contraseña correcta\n",
      "La hora de la salida es a las 14\n"
     ]
    }
   ],
   "source": [
    "contraseña_correcta ='codepro'\n",
    "contraseña_ingresada = input(\"Ingrese tu contraseña\")\n",
    "\n",
    "while contraseña_ingresada != contraseña_correcta:\n",
    "    print(\"contraseña incorrecta\")\n",
    "    contraseña_ingresada = input(\"Ingresa una contraseña\")\n",
    "\n",
    "print(\"Contraseña correcta\")\n",
    "print(\"La hora de la salida es a las 14\")"
   ]
  },
  {
   "cell_type": "code",
   "execution_count": 61,
   "id": "a84eb554",
   "metadata": {},
   "outputs": [
    {
     "name": "stdout",
     "output_type": "stream",
     "text": [
      "Contraseña incorrecta\n",
      "Contraseña incorrecta\n",
      "Contraseña incorrecta\n",
      "Contraseña incorrecta\n",
      "Contraseña incorrecta\n",
      "Contraseña correcta\n"
     ]
    }
   ],
   "source": [
    "contraseña_correcta ='codepro'\n",
    "contraseña_ingresada = input(\"Ingrese tu contraseña\")\n",
    "\n",
    "while True:\n",
    "    contraseña_ingresada = input(\"Ingresa otra contraseña\")\n",
    "    if contraseña_ingresada == contraseña_correcta:\n",
    "        print(\"Contraseña correcta\")\n",
    "        break\n",
    "    else:\n",
    "        print('Contraseña incorrecta')\n",
    "   "
   ]
  },
  {
   "cell_type": "markdown",
   "id": "01812a5c",
   "metadata": {},
   "source": [
    "# Challenge 🤺 - 20m\n",
    "Crear una lista de 5 elementos. Luego, seguir los siguientes pasos.\n",
    "\n",
    "Agregar un elemento al final de la lista.\n",
    "\n",
    "Modificar el segundo elemento.\n",
    "\n",
    "Eliminar el tercer elemento."
   ]
  },
  {
   "cell_type": "code",
   "execution_count": 100,
   "id": "08386f0e",
   "metadata": {},
   "outputs": [
    {
     "name": "stdout",
     "output_type": "stream",
     "text": [
      "['manzanas', 'Peras', 'Kiwis', 'Cebollas', 'Papas', 'perejil']\n",
      "['manzanas', 'Mandiocas', 'Kiwis', 'Cebollas', 'Papas', 'perejil']\n",
      "['manzanas', 'Mandiocas', 'Cebollas', 'Papas', 'perejil']\n",
      "manzanas\n",
      "Mandiocas\n",
      "Cebollas\n",
      "Papas\n",
      "perejil\n",
      "Holaa\n",
      "Holaa\n"
     ]
    }
   ],
   "source": [
    "lista_de_elementos = [\"manzanas\", \"Peras\", \"Kiwis\", \"Cebollas\", \"Papas\"]\n",
    "\n",
    "lista_de_elementos.append(\"perejil\")\n",
    "print(lista_de_elementos)\n",
    "\n",
    "lista_de_elementos[1] = \"Mandiocas\"\n",
    "print(lista_de_elementos)\n",
    "\n",
    "lista_de_elementos.pop(2)\n",
    "print(lista_de_elementos)\n",
    "\n",
    "for lista in lista_de_elementos:\n",
    "    print(lista)\n",
    "for lista in range(2):\n",
    "    print('Holaa')"
   ]
  },
  {
   "cell_type": "markdown",
   "id": "8e132734",
   "metadata": {},
   "source": [
    "#Challenge 🤺 - 20m\n",
    "Escribir un programa que itere en un rango de 10 veces. Por cada iteracion multiplicar el iterador por dos e imprimir el resultado.\n"
   ]
  },
  {
   "cell_type": "code",
   "execution_count": 118,
   "id": "93ccb8ac",
   "metadata": {},
   "outputs": [
    {
     "name": "stdout",
     "output_type": "stream",
     "text": [
      "2\n",
      "4\n",
      "6\n",
      "8\n",
      "10\n",
      "12\n",
      "14\n",
      "16\n",
      "18\n",
      "20\n"
     ]
    }
   ],
   "source": [
    "for programa in range(1,11):\n",
    "    print(programa*2)"
   ]
  },
  {
   "cell_type": "markdown",
   "id": "4524593d",
   "metadata": {},
   "source": [
    "#Challenge 🤺 - 20m\n",
    "Recorrer los elementos de una lista de marcas e imprimir cada marca solamente si tiene 6 letras o más."
   ]
  },
  {
   "cell_type": "code",
   "execution_count": null,
   "id": "0712c3f5",
   "metadata": {},
   "outputs": [
    {
     "name": "stdout",
     "output_type": "stream",
     "text": [
      "coca-cola 9\n",
      "samsung 7\n",
      "adidas 6\n",
      "toyota 6\n",
      "microsoft 9\n",
      "starbucks 9\n"
     ]
    }
   ],
   "source": [
    "lista = ['nike','apple','coca-cola','samsung','adidas','toyota','microsoft','starbucks']\n",
    "\n",
    "for marca in lista:\n",
    "    if len(marca) >= 6:\n",
    "        print(marca, len(nom))\n"
   ]
  },
  {
   "cell_type": "markdown",
   "id": "4b706438",
   "metadata": {},
   "source": [
    "#Recorrer los elementos de una lista de marcas e imprimir cada marca solamente si tiene 6 letras o más."
   ]
  },
  {
   "cell_type": "code",
   "execution_count": null,
   "id": "243aceea",
   "metadata": {},
   "outputs": [
    {
     "name": "stdout",
     "output_type": "stream",
     "text": [
      "Tkm\n",
      "Tkm\n",
      "Tkm\n",
      "Tkm\n"
     ]
    }
   ],
   "source": [
    "#Frase = input(\"Ingrese una frase\")\n",
    "\n",
    "f#or letra in Frase:\n",
    "    #if letra == 'o':\n",
    "        #print('Tkm')"
   ]
  },
  {
   "cell_type": "code",
   "execution_count": 168,
   "id": "2840b782",
   "metadata": {},
   "outputs": [
    {
     "name": "stdout",
     "output_type": "stream",
     "text": [
      "Prueba otro\n",
      "Prueba otro\n",
      "Prueba otro\n",
      "Prueba otro\n",
      "Prueba otro\n",
      "TKM\n",
      "TKM\n",
      "TKM\n",
      "TKM\n"
     ]
    }
   ],
   "source": [
    "while True:\n",
    "    Frase = input(\"Ingrese una frase\")\n",
    "\n",
    "    if 'o' in Frase:\n",
    "        for letra in Frase:\n",
    "         if letra =='o':\n",
    "            print('TKM')\n",
    "        break\n",
    "        \n",
    "    else:\n",
    "        print('Prueba otro')\n",
    "        Frase = input(\"Ingrese una frase\")"
   ]
  }
 ],
 "metadata": {
  "kernelspec": {
   "display_name": "Python 3",
   "language": "python",
   "name": "python3"
  },
  "language_info": {
   "codemirror_mode": {
    "name": "ipython",
    "version": 3
   },
   "file_extension": ".py",
   "mimetype": "text/x-python",
   "name": "python",
   "nbconvert_exporter": "python",
   "pygments_lexer": "ipython3",
   "version": "3.13.3"
  }
 },
 "nbformat": 4,
 "nbformat_minor": 5
}
