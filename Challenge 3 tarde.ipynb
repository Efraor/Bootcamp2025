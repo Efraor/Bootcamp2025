{
 "cells": [
  {
   "cell_type": "markdown",
   "id": "9a57a589",
   "metadata": {},
   "source": [
    "# Challenge 🤺 - 10m\n",
    "Solicitar al usuario ingresar dos números y almacenarlos en dos variables. Luego, imprimir la suma de los dos números.\n"
   ]
  },
  {
   "cell_type": "code",
   "execution_count": null,
   "id": "7f79c63f",
   "metadata": {},
   "outputs": [
    {
     "name": "stdout",
     "output_type": "stream",
     "text": [
      "Tu numero final es 25\n"
     ]
    }
   ],
   "source": [
    "numero1 = int(input(\"Ingrese un numero\"))\n",
    "numero2 = int(input(\"Ingrese otro numero\"))\n",
    "numero_final = numero1+numero2\n",
    "\n",
    "print(f\"Tu numero final es {numero_final}\")"
   ]
  }
 ],
 "metadata": {
  "kernelspec": {
   "display_name": "Python 3",
   "language": "python",
   "name": "python3"
  },
  "language_info": {
   "codemirror_mode": {
    "name": "ipython",
    "version": 3
   },
   "file_extension": ".py",
   "mimetype": "text/x-python",
   "name": "python",
   "nbconvert_exporter": "python",
   "pygments_lexer": "ipython3",
   "version": "3.13.3"
  }
 },
 "nbformat": 4,
 "nbformat_minor": 5
}
