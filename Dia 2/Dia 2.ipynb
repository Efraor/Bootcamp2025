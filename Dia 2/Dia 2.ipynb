{
 "cells": [
  {
   "cell_type": "code",
   "execution_count": 9,
   "id": "a478cb40",
   "metadata": {},
   "outputs": [
    {
     "name": "stdout",
     "output_type": "stream",
     "text": [
      "Buenos dias Efra, gracias por venir!\n"
     ]
    }
   ],
   "source": [
    "def saludo_bienvenida(nombre):\n",
    "    print(f\"Buenos dias {nombre}, gracias por venir!\")\n",
    "\n",
    "usuario = input(\"Ingrese su nombre\")\n",
    "\n",
    "saludo_bienvenida(usuario)\n"
   ]
  },
  {
   "cell_type": "code",
   "execution_count": 19,
   "id": "4cbacfda",
   "metadata": {},
   "outputs": [
    {
     "name": "stdout",
     "output_type": "stream",
     "text": [
      "Es muy mayor de edad, no puedes ingresar\n"
     ]
    }
   ],
   "source": [
    "#condicionales\n",
    "edad = int(input(\"Ingrese su edad\"))\n",
    "\n",
    "if edad < 18:\n",
    "    print(\"Es menor, no puedes ingresar\")\n",
    "\n",
    "elif 18<= edad <= 40:\n",
    "    print(\"Puedes entrar, estas en el rango de edad\")\n",
    "\n",
    "else:\n",
    "    print('Es muy mayor de edad, no puedes ingresar')"
   ]
  },
  {
   "cell_type": "markdown",
   "id": "cde64d64",
   "metadata": {},
   "source": [
    "#Challenge 🤺 - 30m\n",
    "\n",
    "Escribir un programa en el que se pregunte al usuario por una temperatura (en grados Celsius), imprima la temperatura escrita, y luego clasificar la temperatura ingresada en los siguientes niveles:\n",
    "\n",
    "Entre -10 y 18 grados, que imprima \"Fresquete\".\n",
    "Entre 19 y 30 grados, que imprima \"Calor'i\".\n",
    "Entre 31 y 45 grados, que imprima \"Hakuuuuuu\".\n",
    "Para todo lo demás, imprimir \"Ñamano mba'e!\"."
   ]
  },
  {
   "cell_type": "code",
   "execution_count": 44,
   "id": "43ec73d5",
   "metadata": {},
   "outputs": [
    {
     "name": "stdout",
     "output_type": "stream",
     "text": [
      "La temperaura es de -15.0 grados celsius\n",
      "Donde piko vivis para estar con esas temperaturas\n"
     ]
    }
   ],
   "source": [
    "temperatura_declarada = float(input('Que temperatura hace ahora mismo'))\n",
    "\n",
    "print(f'La temperaura es de {temperatura_declarada} grados celsius')\n",
    "\n",
    "if -10 <= temperatura_declarada <= 18:\n",
    "    print('Fresquete')\n",
    "\n",
    "elif 19 <= temperatura_declarada <= 30:\n",
    "    print(\"calor'i\")\n",
    "\n",
    "elif 31<= temperatura_declarada <= 45:\n",
    "    print(\"hakuroooooo\")\n",
    "else:\n",
    "    print('Donde piko vivis para estar con esas temperaturas')"
   ]
  },
  {
   "cell_type": "code",
   "execution_count": 47,
   "id": "71b8652e",
   "metadata": {},
   "outputs": [
    {
     "name": "stdout",
     "output_type": "stream",
     "text": [
      "Numero incorrecto\n",
      "Numero correcto\n",
      "El numero es correcto 10\n"
     ]
    }
   ],
   "source": [
    "#numero a adivinar\n",
    "\n",
    "numero_a_adivinar = 10\n",
    "numero = 3\n",
    "while numero != numero_a_adivinar:\n",
    "    numero = int(input('Ingrese un numero'))\n",
    "    print('Numero incorrecto')\n",
    "\n",
    "print('Numero correcto')\n",
    "\n",
    "while True: \n",
    "    numero_ingresado = int(input(\"Introduce un numero\"))\n",
    "    if numero_ingresado == 10:\n",
    "        print(f'El numero es correcto {numero_ingresado}')\n",
    "        break\n",
    "    "
   ]
  },
  {
   "cell_type": "code",
   "execution_count": 60,
   "id": "b9880e33",
   "metadata": {},
   "outputs": [
    {
     "name": "stdout",
     "output_type": "stream",
     "text": [
      "Bananas\n",
      "['Manzanas', 'peras', 'Bananas', 'kiwi']\n",
      "['Manzanas', 'durazno', 'Bananas', 'kiwi']\n",
      "['durazno', 'Bananas', 'kiwi']\n"
     ]
    }
   ],
   "source": [
    "listas_de_frutas = [\"Manzanas\", \"peras\", \"Bananas\"]\n",
    "\n",
    "lista_bool = [True, False, False, True]\n",
    "\n",
    "listas_numeros = [1, 2, 3, 4]\n",
    "\n",
    "print(listas_de_frutas[2])\n",
    "\n",
    "listas_de_frutas.append(\"kiwi\")\n",
    "print(listas_de_frutas)\n",
    "\n",
    "#Modificar\n",
    "\n",
    "listas_de_frutas[1] = \"durazno\"\n",
    "print(listas_de_frutas)\n",
    "\n",
    "#Eliminar un elemento especifico\n",
    "listas_de_frutas.remove(\"Manzanas\")\n",
    "\n",
    "print(listas_de_frutas)\n"
   ]
  }
 ],
 "metadata": {
  "kernelspec": {
   "display_name": "Python 3",
   "language": "python",
   "name": "python3"
  },
  "language_info": {
   "codemirror_mode": {
    "name": "ipython",
    "version": 3
   },
   "file_extension": ".py",
   "mimetype": "text/x-python",
   "name": "python",
   "nbconvert_exporter": "python",
   "pygments_lexer": "ipython3",
   "version": "3.13.3"
  }
 },
 "nbformat": 4,
 "nbformat_minor": 5
}
