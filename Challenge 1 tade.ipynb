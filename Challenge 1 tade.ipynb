{
 "cells": [
  {
   "cell_type": "markdown",
   "id": "a57c1bac",
   "metadata": {},
   "source": [
    "# challange\n",
    "\n",
    "Suma: asignar dos números en dos variables diferentes cantidad_de_manzanas y cantidad_de_naranjas. Luego sumar ambas variables en cantidad_de_frutas. Imprimir la última variable.\n",
    "\n",
    "Resta: asignar un valor numérico a la variable frutas_vendidas. Luego, asignar la resta entre cantidad_de_frutas y frutas_vendidas a la variable frutas_restantes. Imprimir la última variable."
   ]
  },
  {
   "cell_type": "code",
   "execution_count": 8,
   "id": "c2c60957",
   "metadata": {},
   "outputs": [
    {
     "name": "stdout",
     "output_type": "stream",
     "text": [
      "Cantidad de frutas: 10\n",
      "frutas restantes: 7\n"
     ]
    }
   ],
   "source": [
    "Cantidad_de_manzanas = 2\n",
    "cantidad_de_naranjas = 5\n",
    "\n",
    "Cantidad_de_frutas = cantidad_de_naranjas + cantidad_de_naranjas\n",
    "print('Cantidad de frutas:', Cantidad_de_frutas)\n",
    "\n",
    "\n",
    "\n",
    "\n",
    "Frutas_vendidas = 3\n",
    "\n",
    "frutas_restantes = Cantidad_de_frutas - Frutas_vendidas\n",
    "print('frutas restantes:', frutas_restantes)\n",
    "\n"
   ]
  },
  {
   "cell_type": "code",
   "execution_count": null,
   "id": "c4bc8ea1",
   "metadata": {},
   "outputs": [],
   "source": []
  }
 ],
 "metadata": {
  "kernelspec": {
   "display_name": "Python 3",
   "language": "python",
   "name": "python3"
  },
  "language_info": {
   "codemirror_mode": {
    "name": "ipython",
    "version": 3
   },
   "file_extension": ".py",
   "mimetype": "text/x-python",
   "name": "python",
   "nbconvert_exporter": "python",
   "pygments_lexer": "ipython3",
   "version": "3.13.3"
  }
 },
 "nbformat": 4,
 "nbformat_minor": 5
}
